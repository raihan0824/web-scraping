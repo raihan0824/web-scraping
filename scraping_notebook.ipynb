{
 "cells": [
  {
   "cell_type": "code",
   "execution_count": 2,
   "metadata": {},
   "outputs": [],
   "source": [
    "from selenium import webdriver    # to  control the chrome browser\n",
    "import time\n",
    "from bs4 import BeautifulSoup     # to parse the page source\n",
    "import pandas as pd                # to create csv file of scraped user details\n",
    "from selenium.webdriver.chrome.options import Options\n",
    "import re\n",
    "import json"
   ]
  },
  {
   "cell_type": "code",
   "execution_count": null,
   "metadata": {},
   "outputs": [],
   "source": [
    "url_data = pd.read_csv('/Users/raihanafiandi/Documents/Upwork/A/SN URLs (external for scraping) - Sheet1.csv',header=None)\n",
    "url_data.values.tolist()\n",
    "url_datas = []\n",
    "for url in url_data.values.tolist():\n",
    "    url_datas.append(url[0])\n",
    "url_datas"
   ]
  },
  {
   "cell_type": "code",
   "execution_count": 6,
   "metadata": {},
   "outputs": [
    {
     "name": "stderr",
     "output_type": "stream",
     "text": [
      "/var/folders/5z/hw78fp696kq214rqw84h1tc80000gn/T/ipykernel_12408/3391777898.py:3: DeprecationWarning: use options instead of chrome_options\n",
      "  bro = webdriver.Chrome(chrome_options=options)    # creating chrome instance\n"
     ]
    },
    {
     "data": {
      "text/plain": [
       "[{'Name': 'Alessandro Manes',\n",
       "  'Company_1': 'Aleph srl',\n",
       "  'Position_1': 'CEO',\n",
       "  'Website': 'http://www.alephteam.com',\n",
       "  'Twitter': 'https://twitter.com/aleph_team',\n",
       "  'Navigator_Link': 'https://www.linkedin.com/sales/people/ACwAAA8iAlEBILG7MTN5gJd8uCfTf8-0qdAal0U,NAME_SEARCH,FTav?_ntb=mkhPB76nTa2vkKnTCvowNA%3D%3D'},\n",
       " {'Name': 'Roberto Frigerio',\n",
       "  'Company_1': 'aleph srl',\n",
       "  'Company_2': 'aleph srl',\n",
       "  'Company_3': 'EY',\n",
       "  'Company_4': 'EY',\n",
       "  'Company_5': 'EY',\n",
       "  'Position_1': 'General Manager',\n",
       "  'Position_2': 'Chief Financial Officer (Private Equity owned company)',\n",
       "  'Position_3': 'Audit Manager',\n",
       "  'Position_4': 'Senior Auditor',\n",
       "  'Position_5': 'Staff Auditor',\n",
       "  'Website': 'None',\n",
       "  'Twitter': 'None',\n",
       "  'Navigator_Link': 'https://www.linkedin.com/sales/people/ACwAAAwHZMsBM3Oc7M8hCV7_l0EGeHlkfbEp39I,NAME_SEARCH,ltLF?_ntb=mkhPB76nTa2vkKnTCvowNA%3D%3D'},\n",
       " {'Name': 'Stefano Macalli, EMBA',\n",
       "  'Company_1': 'Surfaces Group',\n",
       "  'Company_2': 'aleph_srl',\n",
       "  'Company_3': 'Michel Van de Wiele NV',\n",
       "  'Company_4': 'Gewiss',\n",
       "  'Company_5': 'AEROCLUB BERGAMO - G. TARAMELLI',\n",
       "  'Position_1': 'COO',\n",
       "  'Position_2': 'Plant Production Manager / Chief Operating Officer',\n",
       "  'Position_3': 'Plant Operations Manager',\n",
       "  'Position_4': 'Deputy Director of Operations / Plant Production Coordinator & PM',\n",
       "  'Position_5': 'Plant Production Manager',\n",
       "  'Position_6': 'Membro del consiglio direttivo con delega ai servizi generali',\n",
       "  'Website': 'mailto:stefano.macalli@gmail.com',\n",
       "  'Twitter': 'None',\n",
       "  'Navigator_Link': 'https://www.linkedin.com/sales/people/ACwAAArb5OgBJY2LNPEvbBe4yj7JABWI4UjNmfQ,NAME_SEARCH,wh87?_ntb=mkhPB76nTa2vkKnTCvowNA%3D%3D'},\n",
       " {'Name': 'Denis Besco',\n",
       "  'Company_1': 'Monti Antonio SpA I Custom Heating Machines',\n",
       "  'Company_2': 'Aleph srl',\n",
       "  'Company_3': 'Monti Antonio SpA',\n",
       "  'Company_4': 'Nova Rotors, Srl',\n",
       "  'Position_1': 'Direttore di Stabilimento /Plant manager',\n",
       "  'Position_2': 'COO - Chief Operation Officer',\n",
       "  'Position_3': 'Industry development Manager',\n",
       "  'Position_4': 'Amministratore delegato',\n",
       "  'Website': 'None',\n",
       "  'Twitter': 'None',\n",
       "  'Navigator_Link': 'https://www.linkedin.com/sales/people/ACwAAAtxyQYBAxXEIfABLOS4mYZqAVeH-KHewak,NAME_SEARCH,hHSs?_ntb=mkhPB76nTa2vkKnTCvowNA%3D%3D'},\n",
       " {'Name': 'Frédéric Brun',\n",
       "  'Company_1': 'ARTURIA',\n",
       "  'Position_1': 'Owner and President',\n",
       "  'Website': 'http://www.arturia.com',\n",
       "  'Twitter': 'None',\n",
       "  'Navigator_Link': 'https://www.linkedin.com/sales/people/ACwAAAInzq8BudEHhH0JyHweN0FdlitJCpKYq0s,NAME_SEARCH,p8Dh?_ntb=P7D8ZiV3RxGoV1B9qUXQKA%3D%3D'}]"
      ]
     },
     "execution_count": 6,
     "metadata": {},
     "output_type": "execute_result"
    }
   ],
   "source": [
    "options = Options()\n",
    "options.add_argument(\"user-data-dir=/Users/raihanafiandi/Library/Application Support/Google/Chrome/Default\")\n",
    "bro = webdriver.Chrome(chrome_options=options)    # creating chrome instance\n",
    "record=[]\n",
    "                        \n",
    "for url in url_datas[:5]: #scrape the first 5 urls\n",
    "    bro.get((url))             \n",
    "    bro.implicitly_wait(20)                         # wait until the page load fully\n",
    "    time.sleep(3)\n",
    "    ss=bro.page_source                              # getting page source from selenium\n",
    "    soup=BeautifulSoup(ss,'html.parser')            # parsing the page source with a html parser of Beautiful Soup\n",
    "    time.sleep(1)\n",
    "    try:\n",
    "        names=soup.find(\"span\",{\"class\":\"profile-topcard-person-entity__name t-24 t-black t-bold\"})\n",
    "        name=names.text.strip()\n",
    "    except:\n",
    "        name=\"None\"\n",
    "    try:\n",
    "        company_list = []\n",
    "        companies = soup.findAll(\"a\",{\"class\":\"ember-view inverse-link-on-a-light-background font-weight-400\"})\n",
    "        for company in companies:\n",
    "            company_list.append(company.text.strip())\n",
    "        dict_company = {}\n",
    "        for i,company in enumerate(company_list,1):\n",
    "            dict_company[f'Company_{i}'] = company\n",
    "    except:\n",
    "        company='None'\n",
    "\n",
    "    try:\n",
    "        position_list = []\n",
    "        positions = soup.findAll(\"dt\",{\"class\":\"profile-position__title t-16 t-16--open t-black t-bold\"})\n",
    "        for position in positions:\n",
    "            position_list.append(position.text.strip())\n",
    "        dict_position = {}\n",
    "        for i,position in enumerate(position_list,1):\n",
    "            dict_position[f'Position_{i}'] = position\n",
    "    except:\n",
    "        position='None'\n",
    "        \n",
    "    contacts=soup.findAll(\"a\",{\"class\":\"profile-topcard__contact-info-item-link inverse-link-on-a-light-background t-14\"})\n",
    "    try:\n",
    "        website=contacts[0].get(\"href\")\n",
    "    except:\n",
    "        website='None'\n",
    "    try:\n",
    "        twitter=contacts[1].get(\"href\")\n",
    "    except:\n",
    "       twitter='None'\n",
    "    \n",
    "    output_dict = {'Name': name} | dict_company | dict_position | {'Website':website} | {'Twitter': twitter} | {'Navigator_Link': url}\n",
    "    record.append(output_dict)\n",
    "    # record.append((name,dict_company,dict_position, website,twitter,i))         # temporariy storing a user details in a list \n",
    "    # fields = ['name','website','twitter','salesnavigator-link']\n",
    "    # df = [dict(zip(fields, d)) for d in record]\n",
    "    # df[0].update(dict_company)\n",
    "    \n",
    "\n",
    "record  # copy user's details from the list to the file"
   ]
  },
  {
   "cell_type": "code",
   "execution_count": 8,
   "metadata": {},
   "outputs": [],
   "source": [
    "sample = json.dumps(record)\n",
    "text_file = open(\"Output.txt\", \"w\")\n",
    "text_file.write(output)\n",
    "text_file.close()"
   ]
  }
 ],
 "metadata": {
  "interpreter": {
   "hash": "aee8b7b246df8f9039afb4144a1f6fd8d2ca17a180786b69acc140d282b71a49"
  },
  "kernelspec": {
   "display_name": "Python 3.9.1 64-bit",
   "language": "python",
   "name": "python3"
  },
  "language_info": {
   "codemirror_mode": {
    "name": "ipython",
    "version": 3
   },
   "file_extension": ".py",
   "mimetype": "text/x-python",
   "name": "python",
   "nbconvert_exporter": "python",
   "pygments_lexer": "ipython3",
   "version": "3.9.1"
  },
  "orig_nbformat": 4
 },
 "nbformat": 4,
 "nbformat_minor": 2
}
